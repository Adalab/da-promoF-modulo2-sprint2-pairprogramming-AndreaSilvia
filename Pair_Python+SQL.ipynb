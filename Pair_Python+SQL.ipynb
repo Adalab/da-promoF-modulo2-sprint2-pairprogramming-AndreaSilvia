{
 "cells": [
  {
   "cell_type": "markdown",
   "metadata": {},
   "source": [
    "# Pair programming Python + SQL\n",
    "- Importar las librerías necesarias para crear la conexión y trabajar con Pandas.\n",
    "- Crear la conexión a la base de datos Northwind que devuelva un mensaje de error si algo no ocurre cómo debería.\n",
    "- Usando \"information_schema\", extraer los nombres de las columnas de la tabla \"customers\" de la BBDD \"northwind\".\n",
    "- Seleccionar todo de la tabla \"customers\" donde \"country\" sea \"USA\" o \"Germany\". Almacenar los resultados en una variable.\n",
    "- Convertir los resultados del ejercicio anterior en un Dataframe (no od olvidéis de poner el nombre a las columnas en el orden correcto).\n",
    "- Muestrar las 10 primeras filas del Dataframe y las 10 últimas.\n",
    "- Mostrar 5 filas aleatorias del Dataframe.\n",
    "- ¿Hay nulos en el Dataframe? El resultado debe verse para cada una de las columnas.\n",
    "- Mostrar los principales estadísticos.\n",
    "- Mostrar el nombre de las columnas del Dataframe."
   ]
  }
 ],
 "metadata": {
  "language_info": {
   "name": "python"
  }
 },
 "nbformat": 4,
 "nbformat_minor": 2
}
